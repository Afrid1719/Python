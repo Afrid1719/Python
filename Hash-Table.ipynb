{
 "cells": [
  {
   "cell_type": "code",
   "execution_count": 33,
   "metadata": {},
   "outputs": [],
   "source": [
    "class HashTable:\n",
    "    def __init__(self):\n",
    "        self.MAX = 100\n",
    "        self.data = [[] for _ in range(self.MAX)]\n",
    "\n",
    "    def getHash(self, key) -> int:\n",
    "        hash = 0\n",
    "        for ch in key:\n",
    "            hash += ord(ch)\n",
    "        hash %= self.MAX\n",
    "        return hash\n",
    "\n",
    "    def __setitem__(self, key, value) -> None:\n",
    "        if not len(key):\n",
    "            return\n",
    "        hash = self.getHash(key)\n",
    "        slot = self.data[hash]\n",
    "        for (idx, elem) in enumerate(slot):\n",
    "            if elem[0] == key:\n",
    "                self.data[hash][idx] = (key, value)\n",
    "                return\n",
    "        self.data[hash].append((key, value))\n",
    "\n",
    "    def __getitem__(self, key) -> any:\n",
    "        if not len(key):\n",
    "            return\n",
    "        hash = self.getHash(key)\n",
    "        slot = self.data[hash]\n",
    "        if len(slot) == 0:\n",
    "            return 'Key does not exist'\n",
    "        else:\n",
    "            for item in slot:\n",
    "                if item[0] == key:\n",
    "                    return item[1]\n",
    "\n",
    "    def __delitem__(self, key):\n",
    "        if not len(key):\n",
    "            return\n",
    "        hash = self.getHash(key)\n",
    "        for (idx, elem) in enumerate(self.data[hash]):\n",
    "            if elem[0] == key:\n",
    "                del self.data[hash][idx]\n",
    "\n",
    "    def print(self):\n",
    "        for i in range(self.MAX):\n",
    "            if len(self.data[i]) != 0:\n",
    "                print(str(i) + ' -> ' + str(self.data[i]))\n"
   ]
  },
  {
   "cell_type": "code",
   "execution_count": 34,
   "metadata": {},
   "outputs": [],
   "source": [
    "ht = HashTable()"
   ]
  },
  {
   "cell_type": "code",
   "execution_count": 35,
   "metadata": {},
   "outputs": [
    {
     "data": {
      "text/plain": [
       "23"
      ]
     },
     "execution_count": 35,
     "metadata": {},
     "output_type": "execute_result"
    }
   ],
   "source": [
    "ht.getHash('March 13')\n",
    "# ht.getHash('March 22')"
   ]
  },
  {
   "cell_type": "code",
   "execution_count": 46,
   "metadata": {},
   "outputs": [],
   "source": [
    "ht['March 13'] = 42\n",
    "ht['March 22'] = 90\n",
    "ht['March 51'] = 33"
   ]
  },
  {
   "cell_type": "code",
   "execution_count": 49,
   "metadata": {},
   "outputs": [
    {
     "name": "stdout",
     "output_type": "stream",
     "text": [
      "23 -> [('March 22', 90)]\n",
      "25 -> [('March 51', 33)]\n"
     ]
    }
   ],
   "source": [
    "ht.print()"
   ]
  },
  {
   "cell_type": "code",
   "execution_count": 43,
   "metadata": {},
   "outputs": [
    {
     "data": {
      "text/plain": [
       "42"
      ]
     },
     "execution_count": 43,
     "metadata": {},
     "output_type": "execute_result"
    }
   ],
   "source": [
    "ht['March 13']"
   ]
  },
  {
   "cell_type": "code",
   "execution_count": 48,
   "metadata": {},
   "outputs": [],
   "source": [
    "del ht['March 13']"
   ]
  }
 ],
 "metadata": {
  "kernelspec": {
   "display_name": "Python 3",
   "language": "python",
   "name": "python3"
  },
  "language_info": {
   "codemirror_mode": {
    "name": "ipython",
    "version": 3
   },
   "file_extension": ".py",
   "mimetype": "text/x-python",
   "name": "python",
   "nbconvert_exporter": "python",
   "pygments_lexer": "ipython3",
   "version": "3.9.1"
  },
  "orig_nbformat": 4
 },
 "nbformat": 4,
 "nbformat_minor": 2
}
